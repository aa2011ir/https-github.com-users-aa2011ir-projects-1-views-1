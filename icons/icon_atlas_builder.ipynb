{
 "cells": [
  {
   "cell_type": "code",
   "execution_count": 7,
   "metadata": {},
   "outputs": [],
   "source": [
    "# This makes an atlas out of a set of identically sized images. (c) Beherith mysterme@gmail.com\n",
    "\n",
    "from PIL import Image\n",
    "\n",
    "def create_image_atlas(image_list, atlas_size):\n",
    "    # Calculate the number of rows and columns based on the total number of images\n",
    "    num_images = len(image_list)\n",
    "    num_rows = 32\n",
    "    num_cols = 32\n",
    "    positions = {}\n",
    "\n",
    "    # Calculate the size of each image in the atlas\n",
    "    image_width = atlas_size[0] // num_cols\n",
    "    image_height = atlas_size[1] // num_rows\n",
    "\n",
    "    # Create a new blank atlas image\n",
    "    atlas = Image.new(\"RGBA\", atlas_size)\n",
    "\n",
    "    # Iterate over the image list and paste each image onto the atlas\n",
    "    for i, image_path in enumerate(image_list):\n",
    "        # Open the image using PIL\n",
    "        image = Image.open(image_path)\n",
    "        # Resize the image to fit the calculated size\n",
    "        image = image.resize((image_width, image_height), Image.LANCZOS )\n",
    "\n",
    "        # Calculate the position to paste the image onto the atlas\n",
    "        x = (i % num_cols) * image_width\n",
    "        y = (i // num_cols) * image_height\n",
    "\n",
    "        # Paste the resized image onto the atlas\n",
    "        atlas.paste(image, (x, y))\n",
    "\n",
    "        #png origin is top left vs dds bottom left!\n",
    "        halftexelX = 0.5 / atlas_size[0]\n",
    "        halftexelY = 0.5 / atlas_size[1]\n",
    "        ax = 1.0 - (x + image_width) / atlas_size[0] + halftexelX\n",
    "        aX = 1.0 - (x) / atlas_size[0] - halftexelX\n",
    "        ay =  (y) / atlas_size[1] + halftexelY\n",
    "        aY = (y+image_height) / atlas_size[1] - halftexelY\n",
    "        aw = (image_width) / atlas_size[0]\n",
    "        ah = (image_height) / atlas_size[1]\n",
    "        positions[image_path] = f\"{{ {ax},{aX},{ay},{aY},{aw},{ah} }} ,  --xXyYwh\"\n",
    "        #print(positions)\n",
    "    return atlas, positions\n",
    "\n",
    "\n",
    "# Example usage\n",
    "#image_paths = [\"image1.jpg\", \"image2.jpg\", \"image3.jpg\", \"image4.jpg\"]\n",
    "#atlas_size = (800, 600)\n",
    "\n",
    "#atlas_image = create_image_atlas(image_paths, atlas_size)\n",
    "#atlas_image.show()\n",
    "#atlas_image.save(\"atlas.jpg\")"
   ]
  },
  {
   "cell_type": "code",
   "execution_count": 8,
   "metadata": {},
   "outputs": [
    {
     "name": "stdout",
     "output_type": "stream",
     "text": [
      "716 ['aa.png', 'aa_flak_1.4.png', 'aa_longrange_1.8.png', 'aa_t15.png', 'air.png', 'air_assistdrone.png', 'air_battleship.png', 'air_bladew.png', 'air_bomber.png', 'air_bomber_juno.png']\n"
     ]
    }
   ],
   "source": [
    "import os\n",
    "image_paths = [filename for filename in os.listdir('.') if filename.lower().endswith('.png')]\n",
    "image_paths += ['inverted/' + filename for filename in os.listdir('./inverted/') if filename.lower().endswith('.png')]\n",
    "print (len(image_paths), image_paths[0:10])\n",
    "#each img is targeted to be 32x32, 700 total, "
   ]
  },
  {
   "cell_type": "code",
   "execution_count": 9,
   "metadata": {},
   "outputs": [
    {
     "name": "stderr",
     "output_type": "stream",
     "text": [
      "C:\\Users\\Peti\\AppData\\Local\\Temp/ipykernel_33628/120163981.py:24: DeprecationWarning: LANCZOS is deprecated and will be removed in Pillow 10 (2023-07-01). Use Resampling.LANCZOS instead.\n",
      "  image = image.resize((image_width, image_height), Image.LANCZOS )\n"
     ]
    }
   ],
   "source": [
    "atlas_image, positions = create_image_atlas(image_paths, (1024,1024))\n",
    "#atlas_image.show()\n",
    "atlas_image.save(\"icon_atlas.png\")\n",
    "\n",
    "luafile = open(\"icon_atlas.lua\",'w')\n",
    "luafile.write('local atlas = {\\n')\n",
    "for fname in positions.keys():\n",
    "    luafile.write('\\t[icons/%s] = %s \\n'%(fname, positions[fname]))\n",
    "luafile.write('\\n}\\nreturn atlas\\n')\n",
    "luafile.close()"
   ]
  },
  {
   "cell_type": "code",
   "execution_count": 10,
   "metadata": {},
   "outputs": [],
   "source": [
    "#finally convert to dds with\n",
    "# \\springrts_smf_compiler\\NVTT_DragAndDropConvertToDDSTools\\nvtt_export.exe\" --output \"icon_atlas.dds\" --mip-filter 0 --quality 3 --format bc3 \"icon_atlas.png\""
   ]
  },
  {
   "cell_type": "code",
   "execution_count": null,
   "metadata": {},
   "outputs": [],
   "source": []
  }
 ],
 "metadata": {
  "kernelspec": {
   "display_name": "Python 3",
   "language": "python",
   "name": "python3"
  },
  "language_info": {
   "codemirror_mode": {
    "name": "ipython",
    "version": 3
   },
   "file_extension": ".py",
   "mimetype": "text/x-python",
   "name": "python",
   "nbconvert_exporter": "python",
   "pygments_lexer": "ipython3",
   "version": "3.9.7"
  },
  "orig_nbformat": 4
 },
 "nbformat": 4,
 "nbformat_minor": 2
}
